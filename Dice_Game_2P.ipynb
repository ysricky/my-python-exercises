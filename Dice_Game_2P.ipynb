{
 "cells": [
  {
   "cell_type": "code",
   "execution_count": 31,
   "metadata": {},
   "outputs": [
    {
     "name": "stdout",
     "output_type": "stream",
     "text": [
      "----------------\n",
      "Player 1 has 1\n",
      "Player 2 has 4\n",
      "Player two win!\n",
      "----------------\n",
      "Player 1 has 4\n",
      "Player 2 has 5\n",
      "Player two win!\n",
      "----------------\n",
      "Player 1 has 5\n",
      "Player 2 has 3\n",
      "Player one win!\n",
      "----------------\n",
      "Player 1 has 1\n",
      "Player 2 has 6\n",
      "Player two win!\n",
      "----------------\n",
      "Player 1 has 2\n",
      "Player 2 has 1\n",
      "Player one win!\n",
      "----------------\n",
      "Player 1 has 1\n",
      "Player 2 has 2\n",
      "Player two win!\n",
      "----------------\n",
      "Player 1 has 3\n",
      "Player 2 has 6\n",
      "Player two win!\n",
      "----------------\n",
      "Player 1 has 2\n",
      "Player 2 has 4\n",
      "Player two win!\n",
      "----------------\n",
      "Player 1 has 4\n",
      "Player 2 has 5\n",
      "Player two win!\n",
      "----------------\n",
      "Player 1 has 5\n",
      "Player 2 has 3\n",
      "Player one win!\n",
      "----------------\n",
      "Player 1 has 2\n",
      "Player 2 has 2\n",
      "The game is draw!!!\n"
     ]
    }
   ],
   "source": [
    "import random\n",
    "\n",
    "dice = [1,2,3,4,5,6]\n",
    "\n",
    "while True:\n",
    "    print('----------------')\n",
    "    random.shuffle(dice)\n",
    "    player_one = dice[0]\n",
    "    print(f\"Player 1 has {player_one}\")\n",
    "    random.shuffle(dice)\n",
    "    player_two = dice[0]\n",
    "    print(f\"Player 2 has {player_two}\")\n",
    "    if player_one > player_two:\n",
    "        print(\"Player one win!\")\n",
    "    elif player_one < player_two:\n",
    "        print(\"Player two win!\")\n",
    "    else:\n",
    "        print(\"The game is draw!!!\")\n",
    "        break"
   ]
  },
  {
   "cell_type": "code",
   "execution_count": null,
   "metadata": {},
   "outputs": [],
   "source": []
  }
 ],
 "metadata": {
  "kernelspec": {
   "display_name": "Python 3",
   "language": "python",
   "name": "python3"
  },
  "language_info": {
   "codemirror_mode": {
    "name": "ipython",
    "version": 3
   },
   "file_extension": ".py",
   "mimetype": "text/x-python",
   "name": "python",
   "nbconvert_exporter": "python",
   "pygments_lexer": "ipython3",
   "version": "3.8.3"
  }
 },
 "nbformat": 4,
 "nbformat_minor": 4
}
