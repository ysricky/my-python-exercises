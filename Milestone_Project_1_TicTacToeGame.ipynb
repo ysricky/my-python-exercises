{
 "cells": [
  {
   "cell_type": "markdown",
   "metadata": {},
   "source": [
    "# Tic-Tac-Toe Game"
   ]
  },
  {
   "cell_type": "code",
   "execution_count": 1,
   "metadata": {},
   "outputs": [],
   "source": [
    "from IPython.display import clear_output\n",
    "\n",
    "#Displaying the board\n",
    "def show_board(board):\n",
    "    clear_output(wait=True)\n",
    "    print(' ' + board[7] + ' | ' + board[8] + ' | ' + board[9])\n",
    "    print('-----------')\n",
    "    print(' ' + board[4] + ' | ' + board[5] + ' | ' + board[6])\n",
    "    print('-----------')\n",
    "    print(' ' + board[1] + ' | ' + board[2] + ' | ' + board[3])"
   ]
  },
  {
   "cell_type": "code",
   "execution_count": 2,
   "metadata": {},
   "outputs": [],
   "source": [
    "def player_marker():\n",
    "    \n",
    "    marker = 'empty'\n",
    "    while marker not in ('X','O'):\n",
    "        marker = input(\"Please choose to play as X or O: \")\n",
    "        \n",
    "    return marker"
   ]
  },
  {
   "cell_type": "code",
   "execution_count": 3,
   "metadata": {},
   "outputs": [],
   "source": [
    "def player_position(marker,board):\n",
    "    \n",
    "    position = 0\n",
    "    while position not in range(1,9):\n",
    "        position = int(input(\"Please choose your position (1-9): \"))\n",
    "\n",
    "    board[position] = marker\n",
    "    \n",
    "    return show_board(board)"
   ]
  },
  {
   "cell_type": "code",
   "execution_count": 4,
   "metadata": {},
   "outputs": [],
   "source": [
    "def player_turn(marker,board):\n",
    "    if marker == 'X':\n",
    "        marker = 'O'\n",
    "        player_position(marker,board)\n",
    "    elif marker == 'O':\n",
    "        marker = 'X'\n",
    "        player_position(marker,board)"
   ]
  },
  {
   "cell_type": "code",
   "execution_count": 5,
   "metadata": {},
   "outputs": [],
   "source": [
    "def play_game():\n",
    "    \n",
    "    board = [' ',' ',' ',' ',' ',' ',' ',' ',' ',' ']\n",
    "    \n",
    "    marker = 'X'\n",
    "    \n",
    "    show_board(board)\n",
    "    \n",
    "    while (board[1],board[2],board[3],board[4],board[5],board[6],board[7],board[8],board[9]) not in ('X','O'):\n",
    "        player_position(marker,board)\n",
    "        player_turn(marker,board)"
   ]
  },
  {
   "cell_type": "code",
   "execution_count": null,
   "metadata": {},
   "outputs": [
    {
     "name": "stdout",
     "output_type": "stream",
     "text": [
      " X | O |  \n",
      "-----------\n",
      " O | X | O\n",
      "-----------\n",
      " O | O | X\n"
     ]
    }
   ],
   "source": [
    "play_game()"
   ]
  },
  {
   "cell_type": "code",
   "execution_count": null,
   "metadata": {},
   "outputs": [],
   "source": []
  }
 ],
 "metadata": {
  "kernelspec": {
   "display_name": "Python 3",
   "language": "python",
   "name": "python3"
  },
  "language_info": {
   "codemirror_mode": {
    "name": "ipython",
    "version": 3
   },
   "file_extension": ".py",
   "mimetype": "text/x-python",
   "name": "python",
   "nbconvert_exporter": "python",
   "pygments_lexer": "ipython3",
   "version": "3.8.3"
  }
 },
 "nbformat": 4,
 "nbformat_minor": 4
}
