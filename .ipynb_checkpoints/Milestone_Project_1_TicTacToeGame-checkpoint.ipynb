{
 "cells": [
  {
   "cell_type": "markdown",
   "metadata": {},
   "source": [
    "# Tic-Tac-Toe Game"
   ]
  },
  {
   "cell_type": "code",
   "execution_count": 1,
   "metadata": {},
   "outputs": [],
   "source": [
    "from IPython.display import clear_output\n",
    "\n",
    "#Displaying the board\n",
    "def show_board(board):\n",
    "    clear_output()\n",
    "    print(' ' + board[7] + ' | ' + board[8] + ' | ' + board[9])\n",
    "    print('-----------')\n",
    "    print(' ' + board[4] + ' | ' + board[5] + ' | ' + board[6])\n",
    "    print('-----------')\n",
    "    print(' ' + board[1] + ' | ' + board[2] + ' | ' + board[3])"
   ]
  },
  {
   "cell_type": "code",
   "execution_count": 2,
   "metadata": {},
   "outputs": [],
   "source": [
    "def player_position(marker,board):\n",
    "    \n",
    "    position = 0\n",
    "        \n",
    "    while position not in [1,2,3,4,5,6,7,8,9]:\n",
    "        position = int(input(\"Please choose your position (1-9): \"))\n",
    "\n",
    "    board[position] = marker\n",
    "    \n",
    "    return show_board(board)"
   ]
  },
  {
   "cell_type": "code",
   "execution_count": 3,
   "metadata": {},
   "outputs": [],
   "source": [
    "def player_turn(marker,board):\n",
    "    if marker == 'X':\n",
    "        marker = 'O'\n",
    "        player_position(marker,board)\n",
    "    elif marker == 'O':\n",
    "        marker = 'X'\n",
    "        player_position(marker,board)"
   ]
  },
  {
   "cell_type": "code",
   "execution_count": 4,
   "metadata": {},
   "outputs": [],
   "source": [
    "def win_check(board):\n",
    "    return ((board[7] == 'X' and board[8] == 'X' and board[9] == 'X') or\n",
    "    (board[4] == 'X' and board[5] == 'X' and board[6] == 'X') or\n",
    "    (board[1] == 'X' and board[2] == 'X' and board[3] == 'X') or\n",
    "    (board[1] == 'X' and board[4] == 'X' and board[7] == 'X') or\n",
    "    (board[3] == 'X' and board[6] == 'X' and board[9] == 'X') or\n",
    "    (board[1] == 'X' and board[5] == 'X' and board[9] == 'X') or\n",
    "    (board[3] == 'X' and board[5] == 'X' and board[7] == 'X') or\n",
    "    (board[7] == 'O' and board[8] == 'O' and board[9] == 'O') or\n",
    "    (board[4] == 'O' and board[5] == 'O' and board[6] == 'O') or\n",
    "    (board[1] == 'O' and board[2] == 'O' and board[3] == 'O') or\n",
    "    (board[1] == 'O' and board[4] == 'O' and board[7] == 'O') or\n",
    "    (board[3] == 'O' and board[6] == 'O' and board[9] == 'O') or\n",
    "    (board[1] == 'O' and board[5] == 'O' and board[9] == 'O') or\n",
    "    (board[3] == 'O' and board[5] == 'O' and board[7] == 'O'))"
   ]
  },
  {
   "cell_type": "code",
   "execution_count": 10,
   "metadata": {},
   "outputs": [],
   "source": [
    "def play_game():\n",
    "    \n",
    "    #set up the game board\n",
    "    board = ['#',' ',' ',' ',' ',' ',' ',' ',' ',' ']\n",
    "    \n",
    "    marker = 'X'\n",
    "    \n",
    "    print(\"WELCOME TO TICTACTOE GAME!\")\n",
    "    \n",
    "    print(f\"{marker} PLAY FIRST!\")\n",
    "    \n",
    "    while ' ' in board:\n",
    "        win_check(board)\n",
    "        if win_check(board) == True:\n",
    "            if marker == 'X':\n",
    "                marker = 'O'\n",
    "            elif marker == 'O':\n",
    "                marker = 'X'\n",
    "            print(f\"\\n{marker} WIN!\")\n",
    "            break\n",
    "        player_position(marker,board)\n",
    "        if marker == 'X':\n",
    "            marker = 'O'\n",
    "            print(f\"\\n{marker} TURN\")\n",
    "        elif marker == 'O':\n",
    "            marker = 'X'\n",
    "            print(f\"\\n{marker} TURN\")\n",
    "        \n",
    "    if win_check(board) == False:\n",
    "        print(\"GAME DRAW\")"
   ]
  },
  {
   "cell_type": "code",
   "execution_count": 11,
   "metadata": {},
   "outputs": [
    {
     "name": "stdout",
     "output_type": "stream",
     "text": [
      " O | X | O\n",
      "-----------\n",
      " X | X | O\n",
      "-----------\n",
      " X | O | X\n",
      "\n",
      "O TURN\n",
      "GAME DRAW\n"
     ]
    }
   ],
   "source": [
    "play_game()"
   ]
  },
  {
   "cell_type": "code",
   "execution_count": null,
   "metadata": {},
   "outputs": [],
   "source": []
  }
 ],
 "metadata": {
  "kernelspec": {
   "display_name": "Python 3",
   "language": "python",
   "name": "python3"
  },
  "language_info": {
   "codemirror_mode": {
    "name": "ipython",
    "version": 3
   },
   "file_extension": ".py",
   "mimetype": "text/x-python",
   "name": "python",
   "nbconvert_exporter": "python",
   "pygments_lexer": "ipython3",
   "version": "3.8.3"
  }
 },
 "nbformat": 4,
 "nbformat_minor": 4
}
