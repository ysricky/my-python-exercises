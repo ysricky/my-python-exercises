{
 "cells": [
  {
   "cell_type": "code",
   "execution_count": 52,
   "metadata": {},
   "outputs": [],
   "source": [
    "board_list1 = [' ',' ',' ']\n",
    "board_list2 = [' ',' ',' ']\n",
    "board_list3 = [' ',' ',' ']"
   ]
  },
  {
   "cell_type": "code",
   "execution_count": 53,
   "metadata": {},
   "outputs": [],
   "source": [
    "def board():\n",
    "    \n",
    "    print(board_list1)\n",
    "    print(board_list2)\n",
    "    print(board_list3)"
   ]
  },
  {
   "cell_type": "code",
   "execution_count": 54,
   "metadata": {},
   "outputs": [],
   "source": [
    "def player_choose_position():\n",
    "    player_choice = int(input(\"Please choose position 1-9: \"))\n",
    "    \n",
    "    if player_choice == 1:\n",
    "        board_list3[0] = 'X'\n",
    "        \n",
    "    board()"
   ]
  },
  {
   "cell_type": "code",
   "execution_count": 55,
   "metadata": {},
   "outputs": [
    {
     "name": "stdout",
     "output_type": "stream",
     "text": [
      "Please choose position 1-9: 1\n",
      "[' ', ' ', ' ']\n",
      "[' ', ' ', ' ']\n",
      "['X', ' ', ' ']\n"
     ]
    }
   ],
   "source": [
    "player_choose_position()"
   ]
  },
  {
   "cell_type": "code",
   "execution_count": null,
   "metadata": {},
   "outputs": [],
   "source": []
  }
 ],
 "metadata": {
  "kernelspec": {
   "display_name": "Python 3",
   "language": "python",
   "name": "python3"
  },
  "language_info": {
   "codemirror_mode": {
    "name": "ipython",
    "version": 3
   },
   "file_extension": ".py",
   "mimetype": "text/x-python",
   "name": "python",
   "nbconvert_exporter": "python",
   "pygments_lexer": "ipython3",
   "version": "3.8.3"
  }
 },
 "nbformat": 4,
 "nbformat_minor": 4
}
