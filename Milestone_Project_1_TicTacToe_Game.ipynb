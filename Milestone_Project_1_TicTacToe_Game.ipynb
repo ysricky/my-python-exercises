{
 "cells": [
  {
   "cell_type": "code",
   "execution_count": 14,
   "metadata": {},
   "outputs": [],
   "source": [
    "from IPython.display import clear_output\n",
    "\n",
    "board_list1 = [' ',' ',' ']\n",
    "board_list2 = [' ',' ',' ']\n",
    "board_list3 = [' ',' ',' ']"
   ]
  },
  {
   "cell_type": "code",
   "execution_count": 15,
   "metadata": {},
   "outputs": [],
   "source": [
    "def board():\n",
    "    \n",
    "    print(board_list1)\n",
    "    print(board_list2)\n",
    "    print(board_list3)"
   ]
  },
  {
   "cell_type": "code",
   "execution_count": 16,
   "metadata": {},
   "outputs": [
    {
     "name": "stdout",
     "output_type": "stream",
     "text": [
      "[' ', ' ', ' ']\n",
      "[' ', ' ', ' ']\n",
      "[' ', ' ', ' ']\n"
     ]
    }
   ],
   "source": [
    "board()"
   ]
  },
  {
   "cell_type": "code",
   "execution_count": 17,
   "metadata": {},
   "outputs": [],
   "source": [
    "def player_choose_char():\n",
    "    game_on = True\n",
    "    char = input(\"Please choose X or O: \" )\n",
    "    \n",
    "    while 'X' or 'O' not in board_list3[0] and board_list3[1] and board_list3[2]:\n",
    "        clear_output(wait=True)\n",
    "        char_position = int(input(\"Please choose position based on your numkey (1-9): \"))\n",
    "        if char_position == 1:\n",
    "            board_list3[0] = char\n",
    "        elif char_position == 2:\n",
    "            board_list3[1] = char\n",
    "        elif char_position == 3:\n",
    "            board_list3[2] = char\n",
    "        elif char_position == 4:\n",
    "            board_list2[0] = char\n",
    "        elif char_position == 5:\n",
    "            board_list2[1] = char\n",
    "        elif char_position == 6:\n",
    "            board_list2[2] = char\n",
    "        elif char_position == 7:\n",
    "            board_list1[0] = char\n",
    "        elif char_position == 8:\n",
    "            board_list1[1] = char\n",
    "        elif char_position == 9:\n",
    "            board_list1[2] = char\n",
    "        board()"
   ]
  },
  {
   "cell_type": "code",
   "execution_count": null,
   "metadata": {},
   "outputs": [
    {
     "name": "stdout",
     "output_type": "stream",
     "text": [
      "Please choose position based on your numkey (1-9): 3\n",
      "[' ', ' ', ' ']\n",
      "[' ', ' ', ' ']\n",
      "['X', 'X', 'X']\n"
     ]
    }
   ],
   "source": [
    "player_choose_char()"
   ]
  },
  {
   "cell_type": "code",
   "execution_count": null,
   "metadata": {},
   "outputs": [],
   "source": []
  }
 ],
 "metadata": {
  "kernelspec": {
   "display_name": "Python 3",
   "language": "python",
   "name": "python3"
  },
  "language_info": {
   "codemirror_mode": {
    "name": "ipython",
    "version": 3
   },
   "file_extension": ".py",
   "mimetype": "text/x-python",
   "name": "python",
   "nbconvert_exporter": "python",
   "pygments_lexer": "ipython3",
   "version": "3.8.3"
  }
 },
 "nbformat": 4,
 "nbformat_minor": 4
}
