{
 "cells": [
  {
   "cell_type": "code",
   "execution_count": 1,
   "metadata": {},
   "outputs": [
    {
     "name": "stdout",
     "output_type": "stream",
     "text": [
      "Please choose your number between 1 to 3: 2\n",
      "Wrong! You have 2 chance...\n",
      "Please choose your number between 1 to 3: 3\n",
      "You choose the right number!\n"
     ]
    }
   ],
   "source": [
    "import random\n",
    "\n",
    "num = random.randint(1,10)\n",
    "chances = 3\n",
    "\n",
    "for i in range(3): \n",
    "    guess = int(input(\"Please choose your number between 1 to 3: \"))\n",
    "    chances -= 1\n",
    "    if guess == num:\n",
    "        print(\"You choose the right number!\")\n",
    "        break\n",
    "    else:\n",
    "        print(f\"Wrong! You have {chances} chance...\")\n",
    "        if chances == 0:\n",
    "            print(\"You lose!\")"
   ]
  },
  {
   "cell_type": "code",
   "execution_count": null,
   "metadata": {},
   "outputs": [],
   "source": []
  }
 ],
 "metadata": {
  "kernelspec": {
   "display_name": "Python 3",
   "language": "python",
   "name": "python3"
  },
  "language_info": {
   "codemirror_mode": {
    "name": "ipython",
    "version": 3
   },
   "file_extension": ".py",
   "mimetype": "text/x-python",
   "name": "python",
   "nbconvert_exporter": "python",
   "pygments_lexer": "ipython3",
   "version": "3.8.3"
  }
 },
 "nbformat": 4,
 "nbformat_minor": 4
}
